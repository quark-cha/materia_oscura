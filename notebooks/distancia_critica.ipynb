{
 "cells": [
  {
   "cell_type": "code",
   "execution_count": null,
   "metadata": {},
   "outputs": [],
   "source": [
    "Autor: Victor Estrada Diaz"
   ]
  },
  {
   "cell_type": "markdown",
   "metadata": {},
   "source": []
  },
  {
   "cell_type": "markdown",
   "metadata": {},
   "source": [
    "## Determinación de la Distancia Mínima para Velocidad Baja por Fuerza Gravitatoria\n",
    "\n",
    "Consideremos que para una velocidad promedio de 250 km/seg a 1200 Km/seg una aportacion de 1 m/seg a la velocidad de una estrella es un valor insignificante a su velocidad.\n",
    "\n",
    "Para determinar la distancia mínima entre dos estrellas de manera que la velocidad resultante debido a la fuerza gravitatoria sea menor de 1 metro por segundo, podemos usar la ecuación de la fuerza gravitatoria y despejar la distancia en función de la velocidad deseada y las masas de las estrellas involucradas.\n",
    "\n",
    "Para ello consideremos unas masas considerables, por ejemplo de 1000 masas solares.\n",
    "Si esto es insignificante para dos estrellas de considerable masa entonces a esa distancia los efectos tambien seran despreciables.\n",
    "\n",
    "La ecuación para la fuerza gravitatoria entre dos masas $M_1$ y $M_2$ a una distancia $r$ es:\n",
    "\n",
    "$$F = G \\cdot \\frac{M_1 \\cdot M_2}{r^2}$$\n",
    "\n",
    "Donde:\n",
    "\n",
    "- $F$ es la fuerza gravitatoria entre las estrellas.\n",
    "- $G$ es la constante de gravitación universal.\n",
    "- $M_1$ y $M_2$ son las masas de las estrellas.\n",
    "- $r$ es la distancia entre las estrellas.\n",
    "\n",
    "Si deseamos que la velocidad resultante debido a esta fuerza sea menor de 1 metro por segundo, podemos utilizar la segunda ley de Newton ($F = m \\cdot a$) para relacionar la fuerza con la aceleración $a$, y luego la aceleración con la velocidad ($a = \\frac{v}{t}$):\n",
    "\n",
    "$$F = m \\cdot a$$\n",
    "$$a = \\frac{F}{m}$$\n",
    "$$a = \\frac{v}{t}$$\n",
    "\n",
    "Donde:\n",
    "\n",
    "- $F$ es la fuerza gravitatoria entre las estrellas.\n",
    "- $m$ es la masa de una de las estrellas.\n",
    "- $a$ es la aceleración experimentada por una de las estrellas debido a la fuerza.\n",
    "- $v$ es la velocidad deseada (en este caso, 1 metro por segundo).\n",
    "- $t$ es el tiempo durante el cual se aplica la fuerza (podemos considerar $t = 1$ segundo para simplificar).\n",
    "\n",
    "Luego, puedes sustituir $a = \\frac{v}{t}$ en la ecuación $a = \\frac{F}{m}$ para obtener:\n",
    "\n",
    "$$\\frac{F}{m} = \\frac{v}{t}$$\n",
    "$$F = v \\cdot \\frac{m}{t}$$\n",
    "\n",
    "Sustituyendo la expresión para la fuerza $F$ en la ecuación de la fuerza gravitatoria y despejando $r$:\n",
    "\n",
    "$$G \\cdot \\frac{M_1 \\cdot M_2}{r^2} = v \\cdot \\frac{m}{t}$$\n",
    "$$r^2 = \\frac{G \\cdot M_1 \\cdot M_2 \\cdot t^2}{v \\cdot m}$$\n",
    "$$r = \\sqrt{\\frac{G \\cdot M_1 \\cdot M_2 \\cdot t^2}{v \\cdot m}}$$\n",
    "\n",
    "Dado que estamos buscando la distancia mínima entre las estrellas, podemos considerar la situación en la que las masas $M_1$ y $M_2$ son iguales y sustituir $M_1 = M_2 = M$:\n",
    "\n",
    "$$r = \\sqrt{\\frac{G \\cdot M^2 \\cdot t^2}{v \\cdot M}}$$\n",
    "\n",
    "Ahora podemos utilizar esta ecuación para calcular la distancia mínima $r$ entre dos estrellas de manera que la velocidad resultante debido a la fuerza gravitatoria sea menor de 1 metro por segundo. \n",
    "Esta ecuación asume que la fuerza gravitatoria es la única fuerza actuando y que no hay otras consideraciones como interacciones con otras estrellas o efectos relativistas.\n",
    "\n",
    "Pero nos sirve para no incluir en el calculo de la velocidad de una estrella a aquellas que es demostrado que su aportación es practicamente nula.\n",
    "\n",
    "En nuestro caso nuestra r es:"
   ]
  },
  {
   "cell_type": "code",
   "execution_count": 2,
   "metadata": {},
   "outputs": [
    {
     "name": "stdout",
     "output_type": "stream",
     "text": [
      "La distancia crítica para una velocidad menor de 1.00 m/s\n",
      "es aproximadamente 3.64e+11 metros\n",
      "La distancia crítica en años luz es 3.85e-05\n",
      "La distancia crítica en kilo parsec es 1.18e-08\n",
      "Se calcula una distancia crítica para que la influencia entre dos estrellas sea despreciable.\n",
      "Consideramos dos estrella grandes: 1.99e+33 kg, y un umbral de velocidad: 1.00 m/s\n"
     ]
    }
   ],
   "source": [
    "import math\n",
    "\n",
    "# Constantes físicas\n",
    "G = 6.67430e-11  # Constante de gravitación universal (m^3/kg/s^2)\n",
    "C_años_metros = 9.461e15  # Constante de la velocidad de la luz en años luz\n",
    "masa_grande = 1000.0 * 1.9885e30  # Masa de la estrella grande en kilogramos (1000 masas solares en kg)\n",
    "umbral_velocidad = 1.0  # Umbral de velocidad en m/seg\n",
    "kpc_a_metros = 3.086e19  # Kiloparsec a metros\n",
    "\n",
    "# Cálculos\n",
    "distancia_critica_metros = math.sqrt(G * masa_grande / umbral_velocidad)\n",
    "distancia_critica_años = distancia_critica_metros / C_años_metros\n",
    "distancia_critica_kpc = distancia_critica_metros / kpc_a_metros\n",
    "\n",
    "# Impresiones formateadas con dos decimales\n",
    "print(f\"La distancia crítica para una velocidad menor de {umbral_velocidad:.2f} m/s\")\n",
    "print(f\"es aproximadamente {distancia_critica_metros:.2e} metros\")\n",
    "print(f\"La distancia crítica en años luz es {distancia_critica_años:.2e}\")\n",
    "print(f\"La distancia crítica en kilo parsec es {distancia_critica_kpc:.2e}\")\n",
    "print(f\"Se calcula una distancia crítica para que la influencia entre dos estrellas sea despreciable.\")\n",
    "print(f\"Consideramos dos estrella grandes: {masa_grande:.2e} kg, y un umbral de velocidad: {umbral_velocidad:.2f} m/s\")\n"
   ]
  }
 ],
 "metadata": {
  "kernelspec": {
   "display_name": "Python 3 (ipykernel)",
   "language": "python",
   "name": "python3"
  },
  "language_info": {
   "codemirror_mode": {
    "name": "ipython",
    "version": 3
   },
   "file_extension": ".py",
   "mimetype": "text/x-python",
   "name": "python",
   "nbconvert_exporter": "python",
   "pygments_lexer": "ipython3",
   "version": "3.11.3"
  }
 },
 "nbformat": 4,
 "nbformat_minor": 4
}
