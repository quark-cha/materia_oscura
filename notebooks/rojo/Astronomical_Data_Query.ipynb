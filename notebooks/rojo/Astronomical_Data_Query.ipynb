{
 "cells": [
  {
   "cell_type": "markdown",
   "id": "f3457831",
   "metadata": {},
   "source": [
    "# Querying Astronomical Databases for Redshift Data"
   ]
  },
  {
   "cell_type": "markdown",
   "id": "8490c67f",
   "metadata": {},
   "source": [
    "\n",
    "This notebook demonstrates how to connect to public astronomical databases, such as the Sloan Digital Sky Survey (SDSS) and MAST (Mikulski Archive for Space Telescopes), to retrieve redshift (*z*) data. \n",
    "\n",
    "We will perform the following steps:\n",
    "1. Query the SDSS database using SQL through the `astroquery` library.\n",
    "2. Query JWST data from the MAST archive using `astroquery`.\n",
    "3. Save results in CSV format for further analysis.\n",
    "    "
   ]
  },
  {
   "cell_type": "code",
   "execution_count": 2,
   "id": "10186598",
   "metadata": {},
   "outputs": [
    {
     "name": "stdout",
     "output_type": "stream",
     "text": [
      "Defaulting to user installation because normal site-packages is not writeable\n",
      "Requirement already satisfied: astroquery in c:\\users\\vedq\\appdata\\roaming\\python\\python311\\site-packages (0.4.6)\n",
      "Requirement already satisfied: astropy in c:\\users\\vedq\\appdata\\roaming\\python\\python311\\site-packages (5.2.2)\n",
      "Requirement already satisfied: numpy>=1.16 in c:\\users\\vedq\\appdata\\roaming\\python\\python311\\site-packages (from astroquery) (1.25.2)\n",
      "Requirement already satisfied: requests>=2.4.3 in c:\\users\\vedq\\appdata\\roaming\\python\\python311\\site-packages (from astroquery) (2.31.0)\n",
      "Requirement already satisfied: beautifulsoup4>=4.3.2 in c:\\users\\vedq\\appdata\\roaming\\python\\python311\\site-packages (from astroquery) (4.12.2)\n",
      "Requirement already satisfied: html5lib>=0.999 in c:\\users\\vedq\\appdata\\roaming\\python\\python311\\site-packages (from astroquery) (1.1)\n",
      "Requirement already satisfied: keyring>=4.0 in c:\\users\\vedq\\appdata\\roaming\\python\\python311\\site-packages (from astroquery) (23.13.1)\n",
      "Requirement already satisfied: pyvo>=1.1 in c:\\users\\vedq\\appdata\\roaming\\python\\python311\\site-packages (from astroquery) (1.4.1)\n",
      "Requirement already satisfied: pyerfa>=2.0 in c:\\users\\vedq\\appdata\\roaming\\python\\python311\\site-packages (from astropy) (2.0.0.3)\n",
      "Requirement already satisfied: PyYAML>=3.13 in c:\\users\\vedq\\appdata\\roaming\\python\\python311\\site-packages (from astropy) (6.0)\n",
      "Requirement already satisfied: packaging>=19.0 in c:\\users\\vedq\\appdata\\roaming\\python\\python311\\site-packages (from astropy) (23.1)\n",
      "Requirement already satisfied: soupsieve>1.2 in c:\\users\\vedq\\appdata\\roaming\\python\\python311\\site-packages (from beautifulsoup4>=4.3.2->astroquery) (2.4.1)\n",
      "Requirement already satisfied: six>=1.9 in c:\\users\\vedq\\appdata\\roaming\\python\\python311\\site-packages (from html5lib>=0.999->astroquery) (1.16.0)\n",
      "Requirement already satisfied: webencodings in c:\\users\\vedq\\appdata\\roaming\\python\\python311\\site-packages (from html5lib>=0.999->astroquery) (0.5.1)\n",
      "Requirement already satisfied: jaraco.classes in c:\\users\\vedq\\appdata\\roaming\\python\\python311\\site-packages (from keyring>=4.0->astroquery) (3.2.3)\n",
      "Requirement already satisfied: importlib-metadata>=4.11.4 in c:\\users\\vedq\\appdata\\roaming\\python\\python311\\site-packages (from keyring>=4.0->astroquery) (6.6.0)\n",
      "Requirement already satisfied: pywin32-ctypes>=0.2.0 in c:\\users\\vedq\\appdata\\roaming\\python\\python311\\site-packages (from keyring>=4.0->astroquery) (0.2.0)\n",
      "Requirement already satisfied: charset-normalizer<4,>=2 in c:\\users\\vedq\\appdata\\roaming\\python\\python311\\site-packages (from requests>=2.4.3->astroquery) (3.1.0)\n",
      "Requirement already satisfied: idna<4,>=2.5 in c:\\users\\vedq\\appdata\\roaming\\python\\python311\\site-packages (from requests>=2.4.3->astroquery) (3.4)\n",
      "Requirement already satisfied: urllib3<3,>=1.21.1 in c:\\users\\vedq\\appdata\\roaming\\python\\python311\\site-packages (from requests>=2.4.3->astroquery) (1.26.15)\n",
      "Requirement already satisfied: certifi>=2017.4.17 in c:\\users\\vedq\\appdata\\roaming\\python\\python311\\site-packages (from requests>=2.4.3->astroquery) (2022.12.7)\n",
      "Requirement already satisfied: zipp>=0.5 in c:\\users\\vedq\\appdata\\roaming\\python\\python311\\site-packages (from importlib-metadata>=4.11.4->keyring>=4.0->astroquery) (3.15.0)\n",
      "Requirement already satisfied: more-itertools in c:\\users\\vedq\\appdata\\roaming\\python\\python311\\site-packages (from jaraco.classes->keyring>=4.0->astroquery) (9.1.0)\n"
     ]
    },
    {
     "name": "stderr",
     "output_type": "stream",
     "text": [
      "DEPRECATION: Loading egg at c:\\program files\\python311\\lib\\site-packages\\vboxapi-1.0-py3.11.egg is deprecated. pip 25.1 will enforce this behaviour change. A possible replacement is to use pip for package installation. Discussion can be found at https://github.com/pypa/pip/issues/12330\n"
     ]
    }
   ],
   "source": [
    "# Install necessary libraries\n",
    "!pip install astroquery astropy"
   ]
  },
  {
   "cell_type": "markdown",
   "id": "0446cb7f",
   "metadata": {},
   "source": [
    "## Querying SDSS for Redshift Data"
   ]
  },
  {
   "cell_type": "code",
   "execution_count": 2,
   "id": "acd41528",
   "metadata": {},
   "outputs": [
    {
     "name": "stdout",
     "output_type": "stream",
     "text": [
      "Error querying SDSS: Some errors were detected !\n",
      "    Line #3 (got 12 columns instead of 1)\n"
     ]
    }
   ],
   "source": [
    "\n",
    "from astroquery.sdss import SDSS\n",
    "from astropy.table import Table\n",
    "\n",
    "# SQL query to retrieve redshift data\n",
    "query = \"\"\"\n",
    "-- Consulta SQL para recuperar datos y calcular distancias sin usar el corrimiento al rojo\n",
    "WITH DistanceData AS (\n",
    "    SELECT TOP 100000\n",
    "        p.objID, p.ra, p.dec, p.u, p.g, p.r, p.i, p.z,\n",
    "        -- Añadir magnitud aparente (m) y magnitud absoluta (M)\n",
    "        p.r AS m,  -- Suponiendo que la magnitud aparente es la magnitud en la banda r\n",
    "        -19.3 AS M  -- Suponiendo una magnitud absoluta típica para supernovas tipo Ia\n",
    "    FROM PhotoObj AS p\n",
    "    ORDER BY p.r DESC\n",
    ")\n",
    "SELECT *,\n",
    "    -- Calcular la distancia (D) en parsecs usando la fórmula de la distancia de módulo\n",
    "    POWER(10, (m - M + 5) / 5) AS D\n",
    "FROM DistanceData;\n",
    "\"\"\"\n",
    "\n",
    "try:\n",
    "    # Execute the query\n",
    "    results = SDSS.query_sql(query)\n",
    "    if results:\n",
    "        # Convert results to CSV\n",
    "        table = Table(results)\n",
    "        table.write(\"sdss_query_results.csv\", format=\"csv\", overwrite=True)\n",
    "        print(\"SDSS data saved to 'sdss_query_results.csv'\")\n",
    "    else:\n",
    "        print(\"No data found in SDSS query.\")\n",
    "except Exception as e:\n",
    "    print(f\"Error querying SDSS: {e}\")\n",
    "    "
   ]
  },
  {
   "cell_type": "markdown",
   "id": "4912bed9",
   "metadata": {},
   "source": [
    "## Querying JWST Data from MAST"
   ]
  },
  {
   "cell_type": "code",
   "execution_count": 4,
   "id": "b4268826",
   "metadata": {},
   "outputs": [
    {
     "name": "stdout",
     "output_type": "stream",
     "text": [
      "Error querying MAST: 'list' object has no attribute 'to_table'\n"
     ]
    }
   ],
   "source": [
    "\n",
    "from astroquery.mast import Mast\n",
    "\n",
    "# Define query parameters for JWST data\n",
    "query = {\n",
    "    \"obs_collection\": \"JWST\",\n",
    "    \"filters\": [\"F200W\"],  # Example filter\n",
    "    \"dataRights\": \"PUBLIC\"  # Public data only\n",
    "}\n",
    "\n",
    "try:\n",
    "    # Execute the query\n",
    "    results = Mast.service_request_async(\"Mast.Caom.Filtered\", query).to_table()\n",
    "    # Save results as CSV\n",
    "    results.write(\"jwst_data.csv\", format=\"csv\", overwrite=True)\n",
    "    print(\"JWST data saved to 'jwst_data.csv'\")\n",
    "except Exception as e:\n",
    "    print(f\"Error querying MAST: {e}\")\n",
    "    "
   ]
  },
  {
   "cell_type": "markdown",
   "id": "e33c1f0e",
   "metadata": {},
   "source": [
    "## Notes and Further Steps"
   ]
  },
  {
   "cell_type": "markdown",
   "id": "af8761a7",
   "metadata": {},
   "source": [
    "\n",
    "- Both queries use the `astroquery` library to interact with SDSS and MAST databases.\n",
    "- The SDSS query retrieves photometric and spectroscopic data with redshifts.\n",
    "- The MAST query focuses on JWST observations with specified filters and public data.\n",
    "- You can adapt the SQL or query parameters to match your specific scientific needs.\n",
    "- Results are saved in CSV format for further analysis.\n",
    "\n",
    "### Dependencies\n",
    "Ensure that the `astroquery` and `astropy` libraries are installed. Use `pip install astroquery astropy` if they are missing.\n",
    "\n",
    "### Expanding the Analysis\n",
    "- Include additional fields like distances or times since the Big Bang by incorporating cosmological calculations.\n",
    "- Use other public datasets like ESA Sky or Vizier for complementary data.\n",
    "    "
   ]
  }
 ],
 "metadata": {
  "kernelspec": {
   "display_name": "Python 3 (ipykernel)",
   "language": "python",
   "name": "python3"
  },
  "language_info": {
   "codemirror_mode": {
    "name": "ipython",
    "version": 3
   },
   "file_extension": ".py",
   "mimetype": "text/x-python",
   "name": "python",
   "nbconvert_exporter": "python",
   "pygments_lexer": "ipython3",
   "version": "3.11.3"
  }
 },
 "nbformat": 4,
 "nbformat_minor": 5
}
